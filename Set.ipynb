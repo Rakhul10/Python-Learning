{
 "cells": [
  {
   "cell_type": "markdown",
   "metadata": {},
   "source": [
    "A set is a collection which is unordered, unchangeable*, and unindexed.\n",
    " and do not allow duplicate values.\n",
    "\n",
    ": The values True and 1 are considered the same value in sets, and are treated as duplicates:\n",
    "The values False and 0 are considered the same value in sets, and are treated as duplicates"
   ]
  },
  {
   "cell_type": "code",
   "execution_count": 1,
   "metadata": {},
   "outputs": [
    {
     "name": "stdout",
     "output_type": "stream",
     "text": [
      "{'cherry', 'apple', 'banana'}\n"
     ]
    }
   ],
   "source": [
    "#syntax {}\n",
    "thisset = {\"apple\", \"banana\", \"cherry\", \"apple\"}\n",
    "\n",
    "print(thisset)\n"
   ]
  },
  {
   "cell_type": "code",
   "execution_count": 3,
   "metadata": {},
   "outputs": [
    {
     "name": "stdout",
     "output_type": "stream",
     "text": [
      "{'abc', True, 34, 40, 'male'}\n"
     ]
    }
   ],
   "source": [
    "#A set can contain different data types:\n",
    "set1 = {\"abc\", 34, True, 40, \"male\"}\n",
    "print(set1)\n"
   ]
  },
  {
   "cell_type": "code",
   "execution_count": 4,
   "metadata": {},
   "outputs": [
    {
     "name": "stdout",
     "output_type": "stream",
     "text": [
      "{'cherry', 'apple', 'banana'}\n"
     ]
    }
   ],
   "source": [
    "#The set() Constructor\n",
    "thisset = set((\"apple\", \"banana\", \"cherry\")) # note the double round-brackets\n",
    "print(thisset)"
   ]
  },
  {
   "cell_type": "code",
   "execution_count": 7,
   "metadata": {},
   "outputs": [
    {
     "name": "stdout",
     "output_type": "stream",
     "text": [
      "False\n",
      "False\n"
     ]
    }
   ],
   "source": [
    "#unorder - You cannot access items in a set by referring to an index or a key.\n",
    "# can check for existence\n",
    "thisset = {\"apple\", \"banana\", \"cherry\"}\n",
    "y= \"banana\" not in thisset\n",
    "print(y)\n",
    "print(\"banana\" not in thisset)"
   ]
  },
  {
   "cell_type": "code",
   "execution_count": null,
   "metadata": {},
   "outputs": [
    {
     "name": "stdout",
     "output_type": "stream",
     "text": [
      "<class 'set'>\n",
      "add {'cherry', 'apple', 'orange', 'banana'}\n",
      "update set {'pineapple', 'apple', 'papaya', 'banana', 'cherry', 'mango'}\n",
      "update list  {'pineapple', 'apple', 'papaya', 'banana', 'cherry', 'mango', 'News'}\n",
      "update tuples {'pineapple', 'apple', 'papaya', 'banana', 'cherry', 'mango', 'line', 'News'}\n"
     ]
    }
   ],
   "source": [
    "#Once a set is created, you cannot change its items, but you can add new items/ remove.\n",
    "#1-add -specific value\n",
    "thisset = {\"apple\", \"banana\", \"cherry\"}\n",
    "y={\"paper\"}\n",
    "thisset.add(\"orange\")\n",
    "print (type(y))\n",
    "#thisset.add(y) - can't add tuples \n",
    "\n",
    "\n",
    "print(f'add {thisset}')\n",
    "\n",
    "#update -add set, list,tuples\n",
    "thisset = {\"apple\", \"banana\", \"cherry\"}\n",
    "tropical = {\"pineapple\", \"mango\", \"papaya\"}\n",
    "\n",
    "\n",
    "thisset.update(tropical)\n",
    "print(f'update set {thisset}')\n",
    "x=[\"News\"]\n",
    "thisset.update(x)\n",
    "print(f'update list  {thisset}')\n",
    "z=(\"line\",)  # if not square bracket need to add,\n",
    "thisset.update(z)\n",
    "print(f'update tuples {thisset}')\n",
    "\n",
    "\n",
    "\n"
   ]
  },
  {
   "cell_type": "code",
   "execution_count": 26,
   "metadata": {},
   "outputs": [
    {
     "name": "stdout",
     "output_type": "stream",
     "text": [
      "{'cherry', 'apple'}\n",
      "{'qqqq', 'yye'}\n",
      "{'apple', 'banana'}\n",
      "set()\n"
     ]
    },
    {
     "ename": "NameError",
     "evalue": "name 'thisset' is not defined",
     "output_type": "error",
     "traceback": [
      "\u001b[31m---------------------------------------------------------------------------\u001b[39m",
      "\u001b[31mNameError\u001b[39m                                 Traceback (most recent call last)",
      "\u001b[36mCell\u001b[39m\u001b[36m \u001b[39m\u001b[32mIn[26]\u001b[39m\u001b[32m, line 35\u001b[39m\n\u001b[32m     31\u001b[39m thisset = {\u001b[33m\"\u001b[39m\u001b[33mapple\u001b[39m\u001b[33m\"\u001b[39m, \u001b[33m\"\u001b[39m\u001b[33mbanana\u001b[39m\u001b[33m\"\u001b[39m, \u001b[33m\"\u001b[39m\u001b[33mcherry\u001b[39m\u001b[33m\"\u001b[39m}\n\u001b[32m     33\u001b[39m \u001b[38;5;28;01mdel\u001b[39;00m thisset\n\u001b[32m---> \u001b[39m\u001b[32m35\u001b[39m \u001b[38;5;28mprint\u001b[39m(\u001b[43mthisset\u001b[49m)\n",
      "\u001b[31mNameError\u001b[39m: name 'thisset' is not defined"
     ]
    }
   ],
   "source": [
    "#remove\n",
    "#1 -remove to remove specific value\n",
    "thisset = {\"apple\", \"banana\", \"cherry\"}\n",
    "thisset.remove(\"banana\")\n",
    "print(thisset)\n",
    "\n",
    "#2- discard\n",
    "thisset = {\"yye\", \"banana\", \"qqqq\"}\n",
    "thisset.discard(\"banana\")\n",
    "print(thisset)\n",
    "\n",
    "#Diff b/w\n",
    "#If the item to remove does not exist, remove() will raise an error.\n",
    "#If the item to remove does not exist, discard() will NOT raise an error.\n",
    "\n",
    "#3- pop - as set is unindexed , we can specify which will be removed\n",
    "thisset = {\"apple\", \"banana\", \"cherry\"}\n",
    "\n",
    "thisset.pop()\n",
    "\n",
    "print(thisset)\n",
    "\n",
    "#4- clear - truncate the set\n",
    "thisset = {\"apple\", \"banana\", \"cherry\"}\n",
    "\n",
    "thisset.clear()\n",
    "\n",
    "print(thisset)\n",
    "\n",
    "#5- del the entire set\n",
    "thisset = {\"apple\", \"banana\", \"cherry\"}\n",
    "\n",
    "del thisset\n",
    "\n",
    "print(thisset)\n",
    "\n"
   ]
  },
  {
   "cell_type": "code",
   "execution_count": null,
   "metadata": {},
   "outputs": [],
   "source": [
    "# loop is similar to list"
   ]
  },
  {
   "cell_type": "code",
   "execution_count": null,
   "metadata": {},
   "outputs": [
    {
     "name": "stdout",
     "output_type": "stream",
     "text": [
      "union function {1, 'a', 2, 3, 'c', 'b'}\n",
      "union function - tuples {1, 2, 3, 7, 8, 9, 'b', 'c', 'a'}\n",
      "union operator {1, 2, 'j', 3, 'h', 'i'}\n",
      "union operator  no duplicate {1, 2, 3, 'h', 'j', 'i'}\n",
      "interaction function {'apple'}\n",
      "interaction operator {'apple'}\n",
      "interaction update {'apple'}\n",
      "differnece function {'banana', 'cherry'}\n",
      "differnece operator {'banana', 'cherry'}\n",
      "differnece update {'banana', 'cherry'}\n",
      "Symmetric differnece  {'microsoft', 'cherry', 'banana', 'google'}\n",
      "Symmetric operator  {'microsoft', 'cherry', 'banana', 'google'}\n",
      "Symmetric differnce update  {'microsoft', 'cherry', 'banana', 'google'}\n"
     ]
    }
   ],
   "source": [
    "#join set\n",
    "\n",
    "#1- union function\n",
    "set1 = {\"a\", \"b\", \"c\"}\n",
    "set2 = {1, 2, 3}\n",
    "set1 = set1.union(set2)\n",
    "set3 = set1.union(set2) # can add multiple set ->  myset = set1.union(set2, set3, set4)\n",
    "print(f'union function {set1}')\n",
    "\n",
    "set4 =(7,8,9)\n",
    "set1 =set1.union(set4)\n",
    "print(f'union function - tuples {set1}')\n",
    "\n",
    "#2- union operator(|)\n",
    "set1 = {\"h\", \"i\", \"j\"}\n",
    "set2 = {1, 2, 3}\n",
    "set1= set1|set2 #or we can use  set1 |= set2\n",
    "# can add multiple set ->  myset = myset = set1 | set2 | set3 |set4\n",
    "print(f'union operator {set1}')\n",
    "\n",
    "#Diff b/w union function and opeartor\n",
    "#The  | operator only allows you to join sets with sets, and not with other data types like you can with the  union() method.\n",
    "\n",
    "#2- update() -> we seen before\n",
    "\n",
    "#Both union() and update() will exclude any duplicate items.\n",
    "\n",
    "set1 = {\"h\", \"i\", \"j\"}\n",
    "set2 = {1, 2, 3,\"h\", \"i\", \"j\"}\n",
    "set1= set1|set2 #or we can use  set1 |= set2\n",
    "print(f'union operator  no duplicate {set1}')\n",
    "\n",
    "#3 - Intersection() function - keep only duplicate\n",
    "set1 = {\"apple\", \"banana\", \"cherry\"}\n",
    "set2 = {\"google\", \"microsoft\", \"apple\"}\n",
    "\n",
    "set3 = set1.intersection(set2)\n",
    "print(f'interaction function {set3}')\n",
    "\n",
    "#4- Intersection operator - keep only duplicate\n",
    "set1 = {\"apple\", \"banana\", \"cherry\"}\n",
    "set2 = {\"google\", \"microsoft\", \"apple\"}\n",
    "\n",
    "set3 = set1 & set2\n",
    "print(f'interaction operator {set3}')\n",
    "#Diff b/w inteaction function and opeartor\n",
    "#The & operator only allows you to join sets with sets, and not with other data types like you can with the intersection() method.\n",
    "\n",
    "#5 - interaction_update()\n",
    "#The intersection_update() method will also keep ONLY the duplicates, but it will change the original set instead of returning a new set. similar to set1 = set1.union(set2)\n",
    "set1 = {\"apple\", \"banana\", \"cherry\"}\n",
    "set2 = {\"google\", \"microsoft\", \"apple\"}\n",
    "set1.intersection_update(set2) # or we can use set1 &=set2\n",
    "print(f'interaction update {set1}')\n",
    "\n",
    "#6- difference() function -> return a new set that will contain only the items from the first set that are not present in the other set. set1 -set2\n",
    "set1 = {\"apple\", \"banana\", \"cherry\"}\n",
    "set2 = {\"google\", \"microsoft\", \"apple\"}\n",
    "set3 = set1.difference(set2)\n",
    "print(f'differnece function {set3}')\n",
    "\n",
    "#7 - difference() operator\n",
    "set1 = {\"apple\", \"banana\", \"cherry\"}\n",
    "set2 = {\"google\", \"microsoft\", \"apple\"}\n",
    "set3 = set1 - set2\n",
    "print(f'differnece operator {set3}')\n",
    "#The - operator only allows you to join sets with sets, and not with other data types like you can with the difference() method.\n",
    "\n",
    "#8 - difference update\n",
    "set1 = {\"apple\", \"banana\", \"cherry\"}\n",
    "set2 = {\"google\", \"microsoft\", \"apple\"}\n",
    "set1.difference_update(set2) # or we can use set1 -=set2\n",
    "print(f'differnece update {set1}')\n",
    "\n",
    "\n",
    "#9 -Symmetric difference() function - The symmetric_difference() method will keep only the elements that are NOT present in both sets. -> non duplicate \n",
    "set1 = {\"apple\", \"banana\", \"cherry\"}\n",
    "set2 = {\"google\", \"microsoft\", \"apple\"}\n",
    "set3 = set1.symmetric_difference(set2)  \n",
    "print(f'Symmetric differnece  {set3}')\n",
    "\n",
    "#10 - Symmetric difference operator\n",
    "set1 = {\"apple\", \"banana\", \"cherry\"}\n",
    "set2 = {\"google\", \"microsoft\", \"apple\"}\n",
    "set3 = set1 ^ set2\n",
    "print(f'Symmetric operator  {set3}')\n",
    "\n",
    "#11 - symmetric_difference_update() \n",
    "set1 = {\"apple\", \"banana\", \"cherry\"}\n",
    "set2 = {\"google\", \"microsoft\", \"apple\"}\n",
    "set1.symmetric_difference_update(set2) # or we use set1 ^= set2\t \n",
    "print(f'Symmetric differnce update  {set1}')\n",
    "\n",
    "\n",
    "\n"
   ]
  },
  {
   "cell_type": "code",
   "execution_count": 25,
   "metadata": {},
   "outputs": [
    {
     "name": "stdout",
     "output_type": "stream",
     "text": [
      " all different True\n",
      " one is same False\n",
      "\n",
      " all element is present True\n",
      " one element is absent False\n",
      "\n",
      " one element is absent - operator False\n",
      "\n",
      " one element is absent - operator True\n",
      "\n",
      " super set all element is present True\n",
      " super set all element is present -operator True\n"
     ]
    }
   ],
   "source": [
    "###other methods####\n",
    "# The isdisjoint() method - returns True if none of the items are present in both sets, otherwise it returns False. -> if both set has any one value same , then false\n",
    "x = {\"apple\", \"banana\", \"cherry\"}\n",
    "y = {\"google\", \"microsoft\", \"facebook\"}\n",
    "z = x.isdisjoint(y)\n",
    "print(f' all different {z}')\n",
    "a= {\"apple\",\"microsoft\", \"facebook\"}\n",
    "z=x.isdisjoint(a)\n",
    "print(f' one is same {z}\\n')\n",
    "\n",
    "# The issubset() method returns True if all items in the set exists in the specified set, otherwise it returns False.\n",
    "x = {\"a\", \"b\", \"c\"}\n",
    "y = {\"f\", \"e\", \"d\", \"c\", \"b\", \"a\"}\n",
    "z = x.issubset(y)\n",
    "print(f' all element is present {z}')\n",
    "a={\"f\", \"e\", \"d\", \"c\", \"b\"}\n",
    "z = x.issubset(a)\n",
    "print(f' one element is absent {z}\\n')\n",
    "\n",
    "# using issubset operator\n",
    "z= x<=a\n",
    "print(f' one element is absent - operator {z}\\n')\n",
    "\n",
    "a={\"f\", \"e\", \"d\", \"c\", \"b\",\"a\"}\n",
    "z=x<a\n",
    "print(f' one element is absent - operator {z}\\n')\n",
    "\n",
    "#The issuperset() method returns True if all items in the specified set exists in the original set, otherwise it returns False. opposite to subset\n",
    "x = {\"f\", \"e\", \"d\", \"c\", \"b\", \"a\"}\n",
    "y = {\"a\", \"b\", \"c\"}\n",
    "z = x.issuperset(y)\n",
    "print(f' super set all element is present {z}')\n",
    "\n",
    "z=x>=a\n",
    "print(f' super set all element is present -operator {z}')\n",
    "\n",
    "\n",
    "\n",
    "\n"
   ]
  }
 ],
 "metadata": {
  "kernelspec": {
   "display_name": "Python 3",
   "language": "python",
   "name": "python3"
  },
  "language_info": {
   "codemirror_mode": {
    "name": "ipython",
    "version": 3
   },
   "file_extension": ".py",
   "mimetype": "text/x-python",
   "name": "python",
   "nbconvert_exporter": "python",
   "pygments_lexer": "ipython3",
   "version": "3.13.5"
  }
 },
 "nbformat": 4,
 "nbformat_minor": 2
}
