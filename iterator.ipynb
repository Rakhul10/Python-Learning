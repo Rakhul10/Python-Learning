{
 "cells": [
  {
   "cell_type": "markdown",
   "id": "0c9b4e82",
   "metadata": {},
   "source": [
    "An iterator is an object that contains a countable number of values.\n",
    "\n",
    "An iterator is an object that can be iterated upon, meaning that you can traverse through all the values.\n",
    "\n",
    "Technically, in Python, an iterator is an object which implements the iterator protocol, which consist of the methods __iter__() and __next__().\n",
    "\n",
    "\n",
    "Iterator vs Iterable\n",
    "Lists, tuples, dictionaries, and sets are all iterable objects. They are iterable containers which you can get an iterator from.\n",
    "\n",
    "Even strings are iterable objects, and can return an iterator\n",
    "\n",
    "All these objects have a iter() method which is used to get an iterator"
   ]
  },
  {
   "cell_type": "code",
   "execution_count": 1,
   "id": "7fda759a",
   "metadata": {},
   "outputs": [
    {
     "name": "stdout",
     "output_type": "stream",
     "text": [
      "apple\n",
      "banana\n",
      "cherry\n"
     ]
    }
   ],
   "source": [
    "mytuple = (\"apple\", \"banana\", \"cherry\")\n",
    "myit = iter(mytuple)\n",
    "\n",
    "print(next(myit))\n",
    "print(next(myit))\n",
    "print(next(myit))"
   ]
  },
  {
   "cell_type": "code",
   "execution_count": 2,
   "id": "eb59e86c",
   "metadata": {},
   "outputs": [
    {
     "name": "stdout",
     "output_type": "stream",
     "text": [
      "b\n",
      "a\n",
      "n\n",
      "a\n",
      "n\n",
      "a\n"
     ]
    }
   ],
   "source": [
    "mystr = \"banana\"\n",
    "myit = iter(mystr)\n",
    "\n",
    "print(next(myit))\n",
    "print(next(myit))\n",
    "print(next(myit))\n",
    "print(next(myit))\n",
    "print(next(myit))\n",
    "print(next(myit))"
   ]
  },
  {
   "cell_type": "code",
   "execution_count": 3,
   "id": "b77cba41",
   "metadata": {},
   "outputs": [
    {
     "name": "stdout",
     "output_type": "stream",
     "text": [
      "b\n",
      "a\n",
      "n\n",
      "a\n",
      "n\n",
      "a\n"
     ]
    }
   ],
   "source": [
    "# The for loop actually creates an iterator object and executes the next() method for each loop.\n",
    "mystr = \"banana\"\n",
    "\n",
    "for x in mystr:\n",
    "  print(x)"
   ]
  },
  {
   "cell_type": "code",
   "execution_count": 13,
   "id": "3ade5320",
   "metadata": {},
   "outputs": [
    {
     "name": "stdout",
     "output_type": "stream",
     "text": [
      "2\n",
      "3\n"
     ]
    }
   ],
   "source": [
    "#create iterator\n",
    "class number:\n",
    "    def __iter__(self):\n",
    "        self.a =1\n",
    "        return self # __iter__ must return iterator object , where we can use __next, so only we returning self\n",
    "    def __next__(self):\n",
    "        self.a += 1\n",
    "        return  self.a\n",
    "y= number()\n",
    "z= iter(y)\n",
    "\n",
    "print(next(z))\n",
    "print(next(z))"
   ]
  },
  {
   "cell_type": "code",
   "execution_count": 18,
   "id": "a2896e04",
   "metadata": {},
   "outputs": [
    {
     "name": "stdout",
     "output_type": "stream",
     "text": [
      "2\n",
      "3\n"
     ]
    }
   ],
   "source": [
    "#stop iterator\n",
    "class number:\n",
    "    def __iter__(self):\n",
    "        self.a =1\n",
    "        return self # __iter__ must return iterator object , where we can use __next, so only we returning self\n",
    "    def __next__(self):\n",
    "        if self.a<=2:\n",
    "            self.a += 1\n",
    "            return  self.a\n",
    "        else:\n",
    "            raise StopIteration\n",
    "y= number()\n",
    "z= iter(y)\n",
    "\n",
    "for x in z:\n",
    "    print(x)\n",
    "\n"
   ]
  }
 ],
 "metadata": {
  "kernelspec": {
   "display_name": "Python 3",
   "language": "python",
   "name": "python3"
  },
  "language_info": {
   "codemirror_mode": {
    "name": "ipython",
    "version": 3
   },
   "file_extension": ".py",
   "mimetype": "text/x-python",
   "name": "python",
   "nbconvert_exporter": "python",
   "pygments_lexer": "ipython3",
   "version": "3.13.3"
  }
 },
 "nbformat": 4,
 "nbformat_minor": 5
}
