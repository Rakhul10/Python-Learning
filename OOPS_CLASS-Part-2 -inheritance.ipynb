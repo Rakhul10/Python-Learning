{
 "cells": [
  {
   "cell_type": "markdown",
   "id": "4e0e4fe2",
   "metadata": {},
   "source": [
    "------------------Inheritence----------------------------------------------------\n"
   ]
  },
  {
   "cell_type": "code",
   "execution_count": null,
   "id": "b47fd39c",
   "metadata": {},
   "outputs": [
    {
     "name": "stdout",
     "output_type": "stream",
     "text": [
      "John\n",
      "36\n",
      "name: John \n",
      " Age: 36 \n",
      " D.O.B: 12-Mar-95\n"
     ]
    }
   ],
   "source": [
    "class Person:\n",
    "  fees =50000 #class variable\n",
    "  stud_no = 0\n",
    "  stud_count=0\n",
    "  def __init__(self, name, age,dob):\n",
    "    self.name = name \n",
    "    self.age = age\n",
    "    self.dob =dob\n",
    "  def detail(self):\n",
    "      detail =f\"name: {self.name} \\n Age: {self.age} \\n D.O.B: {self.dob}\"\n",
    "      return detail\n",
    "\n",
    "class Mechanical(Person):\n",
    "    pass\n",
    "\n",
    "p1 = Mechanical(\"John\", 36, '12-Mar-95' )\n",
    "\n",
    "\n",
    "print(p1.name)\n",
    "print(p1.age)\n",
    "print (p1.detail())\n",
    "\n"
   ]
  },
  {
   "cell_type": "code",
   "execution_count": null,
   "id": "b320991c",
   "metadata": {},
   "outputs": [
    {
     "name": "stdout",
     "output_type": "stream",
     "text": [
      "(<class '__main__.Mechanical'>, <class '__main__.Person'>, <class 'object'>)\n"
     ]
    }
   ],
   "source": [
    "class Person:\n",
    "  fees =50000 #class variable\n",
    "  stud_no = 0\n",
    "  stud_count=0\n",
    "  def __init__(self, name, age,dob):\n",
    "    self.name = name \n",
    "    self.age = age\n",
    "    self.dob =dob\n",
    "  def detail(self):\n",
    "      detail =f\"name: {self.name} \\n Age: {self.age} \\n D.O.B: {self.dob}\"\n",
    "      return detail\n",
    "\n",
    "class Mechanical(Person):\n",
    "    pass\n",
    "\n",
    "p1 = Mechanical(\"John\", 36, '12-Mar-95' )\n",
    "\n",
    "#usually after object creation, it will check for init in  inheritance class (Mechanical) , if it is not there, so it went and check in parent class\n",
    "\n",
    "#how to know which order it is searching the class  -> using MRO ATTRIBUTE (*method resolution order)\n",
    "\n",
    "print(Mechanical.__mro__)"
   ]
  },
  {
   "cell_type": "code",
   "execution_count": 1,
   "id": "d6c2dcea",
   "metadata": {},
   "outputs": [
    {
     "name": "stdout",
     "output_type": "stream",
     "text": [
      "10000\n",
      "50000\n"
     ]
    }
   ],
   "source": [
    "#another example\n",
    "class Person:\n",
    "  fees =50000 #class variable\n",
    "  stud_no = 0\n",
    "  stud_count=0\n",
    "  def __init__(self, name, age,dob):\n",
    "    self.name = name \n",
    "    self.age = age\n",
    "    self.dob =dob\n",
    "  def detail(self):\n",
    "      detail =f\"name: {self.name} \\n Age: {self.age} \\n D.O.B: {self.dob}\"\n",
    "      return detail\n",
    "\n",
    "class Mechanical(Person):\n",
    "    fees=10000\n",
    "\n",
    "p1 = Mechanical(\"John\", 36, '12-Mar-95' )\n",
    "\n",
    "p2= Person(\"EVE\", 44, '12-Mar-95' )\n",
    "#usually after object creation, it will check for init in  inheritance class (Mechanical) , if it is not there, so it went and check in parent class\n",
    "\n",
    "#how to know which order it is searching the class  -> using MRO ATTRIBUTE (*method resolution order)\n",
    "\n",
    "print(p1.fees)\n",
    "\n",
    "print(p2.fees)"
   ]
  },
  {
   "cell_type": "code",
   "execution_count": 6,
   "id": "46ea4823",
   "metadata": {},
   "outputs": [
    {
     "name": "stdout",
     "output_type": "stream",
     "text": [
      "10000\n",
      "2016\n"
     ]
    }
   ],
   "source": [
    "#Super function, to use function in parent class with inheritance class\n",
    "class Person:\n",
    "  fees =50000 #class variable\n",
    "  stud_no = 0\n",
    "  stud_count=0\n",
    "  def __init__(self, name, age,dob):\n",
    "    self.name = name \n",
    "    self.age = age\n",
    "    self.dob =dob\n",
    "  def detail(self):\n",
    "      detail =f\"name: {self.name} \\n Age: {self.age} \\n D.O.B: {self.dob}\"\n",
    "      return detail\n",
    "\n",
    "class Mechanical(Person):\n",
    "    fees=10000\n",
    "    def __init__(self, name, age,dob,batch):\n",
    "       super().__init__(name, age,dob) # super function \n",
    "       self.batch=batch\n",
    "       \n",
    "    \n",
    "\n",
    "p1 = Mechanical(\"John\", 36, '12-Mar-95',2016 )\n",
    "\n",
    "\n",
    "print(p1.fees)\n",
    "\n",
    "print(p1.batch)"
   ]
  },
  {
   "cell_type": "markdown",
   "id": "505cc00b",
   "metadata": {},
   "source": [
    "above is example of single inheritance\n"
   ]
  },
  {
   "cell_type": "code",
   "execution_count": 1,
   "id": "3aba5d5c",
   "metadata": {},
   "outputs": [
    {
     "name": "stdout",
     "output_type": "stream",
     "text": [
      "March\n",
      "1997-03-12 00:00:00\n"
     ]
    }
   ],
   "source": [
    "import datetime\n",
    "class person:\n",
    "    def __init__(self,name,age,dob):\n",
    "        self.name =name\n",
    "        self.age =age\n",
    "        self.dob =dob\n",
    "        \n",
    "#multi level inheritance\n",
    "class student(person):\n",
    "    def __init__(self,name,age,dob,roll_no,dept):\n",
    "        super().__init__(name,age,dob)\n",
    "        self.roll_no =roll_no\n",
    "        self.dept=dept\n",
    "class teacher(person):\n",
    "    def __init__(self,name,age,dob,subject):\n",
    "        super().__init__(name,age,dob)\n",
    "        self.subject=subject\n",
    "\n",
    "\n",
    "#heirarical inheritance \n",
    "class mechanical(student):\n",
    "    def __init__(self,name,age,dob,roll_no,dept,class_rank):\n",
    "        super().__init__(name,age,dob,roll_no,dept)\n",
    "        self.class_rank=class_rank\n",
    "\n",
    "p1=teacher('RAJ',27,datetime.datetime(1997,3,12),'Mechnical' )\n",
    "print(p1.dob.strftime(\"%B\"))\n",
    "\n",
    "p2 =mechanical('eve',27,datetime.datetime(1997,3,12),23, 'Mechnical',2 )\n",
    "print(p2.dob)"
   ]
  },
  {
   "cell_type": "code",
   "execution_count": null,
   "id": "0bf14d6a",
   "metadata": {},
   "outputs": [
    {
     "name": "stdout",
     "output_type": "stream",
     "text": [
      "Raj\n",
      "Mani\n"
     ]
    }
   ],
   "source": [
    "#use case\n",
    "\n",
    "import datetime\n",
    "class person:\n",
    "    def __init__(self,name,age,dob):\n",
    "        self.name =name\n",
    "        self.age =age\n",
    "        self.dob =dob\n",
    "        \n",
    "\n",
    "class student(person):\n",
    "    def __init__(self,name,age,dob,roll_no,dept):\n",
    "        super().__init__(name,age,dob)\n",
    "        self.roll_no =roll_no\n",
    "        self.dept=dept\n",
    "class teacher(person):\n",
    "    def __init__(self,name,age,dob,subject,stud =[]):\n",
    "        super().__init__(name,age,dob)\n",
    "        self.subject=subject\n",
    "        self.stud =stud\n",
    "    def show_students(self):   #using iteration \n",
    "        for X in self.stud:\n",
    "            print(X.name)\n",
    "\n",
    "p1 = student('Raj',23,datetime.datetime(1997,3,12),23, 'Mechnical')\n",
    "p2 = student ('Mani',27,datetime.datetime(1997,3,12),23, 'EEE')\n",
    "\n",
    "t1 = teacher('Mani',27,datetime.datetime(1997,3,12), 'EEE',[p1,p2])\n",
    "\n",
    "t1.show_students()\n",
    "\n",
    "\n"
   ]
  },
  {
   "cell_type": "code",
   "execution_count": 7,
   "id": "ef688885",
   "metadata": {},
   "outputs": [
    {
     "name": "stdout",
     "output_type": "stream",
     "text": [
      "Raj\n",
      "Mani\n"
     ]
    }
   ],
   "source": [
    "#multiple inheritance\n",
    "\n",
    "#use case\n",
    "\n",
    "import datetime\n",
    "class person:\n",
    "    def __init__(self,name,age,dob):\n",
    "        self.name =name\n",
    "        self.age =age\n",
    "        self.dob =dob\n",
    "        \n",
    "\n",
    "class student(person):\n",
    "    def __init__(self,name,age,dob,roll_no,dept):\n",
    "        super().__init__(name,age,dob)\n",
    "        self.roll_no =roll_no\n",
    "        self.dept=dept\n",
    "class teacher(person):\n",
    "    def __init__(self,name,age,dob,subject,stud =[]):\n",
    "        super().__init__(name,age,dob)\n",
    "        self.subject=subject\n",
    "        self.stud =stud\n",
    "    def show_students(self):   #using iteration \n",
    "        for X in self.stud:\n",
    "            print(X.name)\n",
    "\n",
    "class collage(student,teacher):\n",
    "    pass\n",
    "\n",
    "p1 = student('Raj',23,datetime.datetime(1997,3,12),23, 'Mechnical')\n",
    "p2 = student ('Mani',27,datetime.datetime(1997,3,12),23, 'EEE')\n",
    "\n",
    "t1 = teacher('Mani',27,datetime.datetime(1997,3,12), 'EEE',[p1,p2])\n",
    "\n",
    "t1.show_students()\n",
    "\n",
    "\n"
   ]
  },
  {
   "cell_type": "code",
   "execution_count": 2,
   "id": "1f13a782",
   "metadata": {},
   "outputs": [
    {
     "name": "stdout",
     "output_type": "stream",
     "text": [
      "Hello from Parent1!\n",
      "Hello from Parent2!\n",
      "Hello from Child!\n"
     ]
    }
   ],
   "source": [
    "#multiple inheritance\n",
    "class Parent1:\n",
    "    def greet1(self):\n",
    "        print(\"Hello from Parent1!\")\n",
    "\n",
    "class Parent2:\n",
    "    def greet2(self):\n",
    "        print(\"Hello from Parent2!\")\n",
    "\n",
    "class Child(Parent1, Parent2):\n",
    "    def greet_child(self):\n",
    "        print(\"Hello from Child!\")\n",
    "\n",
    "obj = Child()\n",
    "obj.greet1()\n",
    "obj.greet2()\n",
    "obj.greet_child()\n"
   ]
  }
 ],
 "metadata": {
  "kernelspec": {
   "display_name": "Python 3",
   "language": "python",
   "name": "python3"
  },
  "language_info": {
   "codemirror_mode": {
    "name": "ipython",
    "version": 3
   },
   "file_extension": ".py",
   "mimetype": "text/x-python",
   "name": "python",
   "nbconvert_exporter": "python",
   "pygments_lexer": "ipython3",
   "version": "3.13.5"
  }
 },
 "nbformat": 4,
 "nbformat_minor": 5
}
