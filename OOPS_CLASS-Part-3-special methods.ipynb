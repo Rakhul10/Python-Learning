{
 "cells": [
  {
   "cell_type": "markdown",
   "id": "1870826a",
   "metadata": {},
   "source": []
  },
  {
   "cell_type": "markdown",
   "id": "a257c31e",
   "metadata": {},
   "source": [
    "#special methods in python\n",
    "\n",
    "    -> start with __ and end with __\n",
    "    -> Example init\n"
   ]
  },
  {
   "cell_type": "code",
   "execution_count": null,
   "id": "5d4e8682",
   "metadata": {},
   "outputs": [
    {
     "name": "stdout",
     "output_type": "stream",
     "text": [
      "<__main__.student object at 0x000002FA988522D0>\n",
      "<class 'datetime.date'>\n",
      "2025-07-25\n"
     ]
    }
   ],
   "source": [
    "#defined class vs date time\n",
    "import datetime\n",
    "\n",
    "class student:\n",
    "    def __init__(self,name):\n",
    "        self.name =name\n",
    "        self.age =18\n",
    "stud = student('John')\n",
    "\n",
    "print(stud)  # return memory address\n",
    "\n",
    "d= datetime.date(year =2025, month =7, day=25 )\n",
    "print (type(d))  # type of this also class\n",
    "print (d) #instead of memory address , it is returning date why? --> because of special method __str__ in print"
   ]
  },
  {
   "cell_type": "code",
   "execution_count": null,
   "id": "ae4792bc",
   "metadata": {},
   "outputs": [
    {
     "name": "stdout",
     "output_type": "stream",
     "text": [
      "John\n"
     ]
    }
   ],
   "source": [
    "# using str\n",
    "class student:\n",
    "    def __init__(self,name):\n",
    "        self.name =name\n",
    "        self.age =18\n",
    "    def __str__(self):   \n",
    "        return(self.name)\n",
    "\n",
    "stud = student('John')\n",
    "print(stud)"
   ]
  },
  {
   "cell_type": "code",
   "execution_count": null,
   "id": "42857cd4",
   "metadata": {},
   "outputs": [
    {
     "ename": "TypeError",
     "evalue": "__str__ returned non-string (type int)",
     "output_type": "error",
     "traceback": [
      "\u001b[1;31m---------------------------------------------------------------------------\u001b[0m",
      "\u001b[1;31mTypeError\u001b[0m                                 Traceback (most recent call last)",
      "Cell \u001b[1;32mIn[9], line 10\u001b[0m\n\u001b[0;32m      7\u001b[0m         \u001b[38;5;28;01mreturn\u001b[39;00m(\u001b[38;5;28mself\u001b[39m\u001b[38;5;241m.\u001b[39mage)\n\u001b[0;32m      9\u001b[0m stud \u001b[38;5;241m=\u001b[39m student(\u001b[38;5;124m'\u001b[39m\u001b[38;5;124mJohn\u001b[39m\u001b[38;5;124m'\u001b[39m)\n\u001b[1;32m---> 10\u001b[0m \u001b[38;5;28mprint\u001b[39m(stud)\n",
      "\u001b[1;31mTypeError\u001b[0m: __str__ returned non-string (type int)"
     ]
    }
   ],
   "source": [
    "#return type of __str__ / __repr__  has to be string only\n",
    "class student:\n",
    "    def __init__(self,name):\n",
    "        self.name =name\n",
    "        self.age =18\n",
    "    def __str__(self):   \n",
    "        return(self.age)\n",
    "\n",
    "stud = student('John')\n",
    "print(stud)"
   ]
  },
  {
   "cell_type": "code",
   "execution_count": 10,
   "id": "a312e8e5",
   "metadata": {},
   "outputs": [
    {
     "name": "stdout",
     "output_type": "stream",
     "text": [
      "18\n"
     ]
    }
   ],
   "source": [
    " #return type of __str__ / __repr__  has to be string only\n",
    "class student:\n",
    "    def __init__(self,name):\n",
    "        self.name =name\n",
    "        self.age =18\n",
    "    def __str__(self):  \n",
    "        return f'{self.age}'\n",
    "\n",
    "stud = student('John')\n",
    "print(stud)"
   ]
  },
  {
   "cell_type": "markdown",
   "id": "00e88a82",
   "metadata": {},
   "source": [
    "__str__ vs __repr__\n",
    "__str__  --> for end user, often used for display purposes.\n",
    "         --> \tIf __str__ is not defined, falls back to __repr__.\n",
    "__repr__ --> for developer usage, detailed string representation of an object, often including information useful for debugging.\n",
    "         --> If __repr__ is not defined, defaults to <object at memory_address>."
   ]
  },
  {
   "cell_type": "code",
   "execution_count": 12,
   "id": "7c1d51dd",
   "metadata": {},
   "outputs": [
    {
     "name": "stdout",
     "output_type": "stream",
     "text": [
      "2025-06-15 11:42:32.700717\n",
      "datetime.datetime(2025, 6, 15, 11, 42, 32, 700717)\n"
     ]
    }
   ],
   "source": [
    "import datetime\n",
    "today = datetime.datetime.now()\n",
    "\n",
    "# Prints readable format for date-time object\n",
    "print(str(today))\n",
    "\n",
    "# prints the official format of date-time object\n",
    "print(repr(today))"
   ]
  },
  {
   "cell_type": "code",
   "execution_count": 21,
   "id": "c01d12d0",
   "metadata": {},
   "outputs": [
    {
     "name": "stdout",
     "output_type": "stream",
     "text": [
      "John\n",
      "[<__main__.student object at 0x000002FA98ADA960>]\n"
     ]
    }
   ],
   "source": [
    "\n",
    "class student:\n",
    "    def __init__(self,name):\n",
    "        self.name =name\n",
    "        self.age =18\n",
    "    def __str__(self):   \n",
    "        return(self.name)\n",
    "\n",
    "stud = student('John')\n",
    "print(stud) # calling object directly in print --> call for str\n",
    "print([stud]) # when we print object as list / directly--> showing memory address\n",
    "               # when i try to print it as list, it look for repr, it is not defined , so i will define   defaults to <object at memory_address>."
   ]
  },
  {
   "cell_type": "code",
   "execution_count": 20,
   "id": "658a3b0a",
   "metadata": {},
   "outputs": [
    {
     "name": "stdout",
     "output_type": "stream",
     "text": [
      "John\n",
      "[student:John]\n"
     ]
    }
   ],
   "source": [
    "\n",
    "class student:\n",
    "    def __init__(self,name):\n",
    "        self.name =name\n",
    "        self.age =18\n",
    "    def __str__(self):   \n",
    "        return(self.name)\n",
    "    def __repr__(self):\n",
    "        return(f'student:{self.name}')\n",
    "stud = student('John')\n",
    "print(stud) # calling object directly  in print --> call for str\n",
    "print([stud]) # when we print object as list --> showing memory address\n",
    "               # when i try to print it as list, it look for repr, and retrun it\n"
   ]
  },
  {
   "cell_type": "code",
   "execution_count": null,
   "id": "d57f9162",
   "metadata": {},
   "outputs": [
    {
     "ename": "TypeError",
     "evalue": "unsupported operand type(s) for +: 'student' and 'student'",
     "output_type": "error",
     "traceback": [
      "\u001b[1;31m---------------------------------------------------------------------------\u001b[0m",
      "\u001b[1;31mTypeError\u001b[0m                                 Traceback (most recent call last)",
      "Cell \u001b[1;32mIn[22], line 10\u001b[0m\n\u001b[0;32m      7\u001b[0m stud1 \u001b[38;5;241m=\u001b[39m student(\u001b[38;5;124m'\u001b[39m\u001b[38;5;124mJohn\u001b[39m\u001b[38;5;124m'\u001b[39m)\n\u001b[0;32m      8\u001b[0m stud2 \u001b[38;5;241m=\u001b[39m student(\u001b[38;5;124m'\u001b[39m\u001b[38;5;124mRaj\u001b[39m\u001b[38;5;124m'\u001b[39m)\n\u001b[1;32m---> 10\u001b[0m \u001b[38;5;28mprint\u001b[39m (stud1 \u001b[38;5;241m+\u001b[39m stud2)\n",
      "\u001b[1;31mTypeError\u001b[0m: unsupported operand type(s) for +: 'student' and 'student'"
     ]
    }
   ],
   "source": [
    "\n",
    "class student:\n",
    "    def __init__(self,name):\n",
    "        self.name =name\n",
    "        self.fee =1000\n",
    "    \n",
    "stud1 = student('John')\n",
    "stud2 = student('Raj')\n",
    "\n",
    "\n",
    "print (stud1 + stud2)  # + -> call for __add__, it can't two object  \n",
    "\n"
   ]
  },
  {
   "cell_type": "code",
   "execution_count": 24,
   "id": "dcc692b1",
   "metadata": {},
   "outputs": [
    {
     "name": "stdout",
     "output_type": "stream",
     "text": [
      "John Raj\n"
     ]
    }
   ],
   "source": [
    "# how to add --> we need to over write add function\n",
    "class student:\n",
    "    def __init__(self,name):\n",
    "        self.name =name\n",
    "        self.fee =1000\n",
    "    def __add__(self,other):\n",
    "        return(self.name + ' ' + other.name)\n",
    "    \n",
    "stud1 = student('John')\n",
    "stud2 = student('Raj')\n",
    "\n",
    "\n",
    "print (stud1 + stud2)  \n",
    "\n"
   ]
  },
  {
   "cell_type": "code",
   "execution_count": 26,
   "id": "489720f4",
   "metadata": {},
   "outputs": [
    {
     "name": "stdout",
     "output_type": "stream",
     "text": [
      "True\n",
      "4\n"
     ]
    }
   ],
   "source": [
    "# trying with boOLEAN\n",
    "class student:\n",
    "    def __init__(self,name):\n",
    "        self.name =name\n",
    "        self.fee =1000\n",
    "    def __eq__(self,other):  \n",
    "        return(self.name == other.name)\n",
    "    def __len__(self):\n",
    "        return(len(self.name))\n",
    "    \n",
    "stud1 = student('John')\n",
    "stud2 = student('John')\n",
    "\n",
    "\n",
    "print (stud1 == stud2)  \n",
    "print (len(stud1))"
   ]
  },
  {
   "cell_type": "code",
   "execution_count": 52,
   "id": "7dec45a0",
   "metadata": {},
   "outputs": [
    {
     "name": "stdout",
     "output_type": "stream",
     "text": [
      "Joh\n",
      "True\n",
      "iohn\n"
     ]
    }
   ],
   "source": [
    "# trying indexing and slicing\n",
    "class student:\n",
    "    def __init__(self,name):\n",
    "        self.name =name\n",
    "        self.fee =1000\n",
    "    def __getitem__(self,key):\n",
    "        return self.name[key]\n",
    "    def __contains__(self,value):\n",
    "        if value in self.name:\n",
    "            return True\n",
    "        return False\n",
    "    def __setitem__(self, key, value):\n",
    "        name_list = list(self.name)\n",
    "        name_list[key] = value\n",
    "        self.name = ''.join(name_list)\n",
    "        print (self.name)\n",
    "    \n",
    "stud1 = student('John')\n",
    "stud2 = student('John')\n",
    "\n",
    "print (stud1[0:3])\n",
    "\n",
    "print('o' in stud1)\n",
    "\n",
    "stud1[0] = 'i'\n",
    "\n"
   ]
  },
  {
   "cell_type": "code",
   "execution_count": null,
   "id": "5d619ad1",
   "metadata": {},
   "outputs": [
    {
     "name": "stdout",
     "output_type": "stream",
     "text": [
      "1\n",
      "2\n"
     ]
    }
   ],
   "source": [
    "#__call__(self, ...): Makes an object callable like a function.\n",
    "class Counter:\n",
    "    def __init__(self):\n",
    "        self.count = 0\n",
    "\n",
    "    def __call__(self):\n",
    "        self.count += 1\n",
    "        return self.count\n",
    "   \n",
    "\n",
    "c = Counter()\n",
    "print(c())  # Output: 1\n",
    "print(c())  # Output: 2\n"
   ]
  },
  {
   "cell_type": "markdown",
   "id": "cf0ba072",
   "metadata": {},
   "source": [
    "Initialization and Construction\n",
    "\n",
    "__new__: To get called in an object's instantiation.\n",
    "__init__: To get called by the __new__ method.\n",
    "__del__: It is the destructor.\n",
    "Numeric magic methods\n",
    "\n",
    "__trunc__(self): Implements behavior for math.trunc()\n",
    "__ceil__(self): Implements behavior for math.ceil()\n",
    "__floor__(self): Implements behavior for math.floor()\n",
    "__round__(self,n): Implements behavior for the built-in round()\n",
    "__invert__(self): Implements behavior for inversion using the ~ operator.\n",
    "__abs__(self): Implements behavior for the built-in abs()\n",
    "__neg__(self): Implements behavior for negation\n",
    "__pos__(self): Implements behavior for unary positive \n",
    "Arithmetic operators\n",
    "\n",
    "__add__(self, other): Implements behavior for the + operator (addition).\n",
    "__sub__(self, other): Implements behavior for the - operator (subtraction).\n",
    "__mul__(self, other): Implements behavior for the * operator (multiplication).\n",
    "__floordiv__(self, other): Implements behavior for the // operator (floor division).\n",
    "__truediv__(self, other): Implements behavior for the / operator (true division).\n",
    "__mod__(self, other): Implements behavior for the % operator (modulus).\n",
    "__divmod__(self, other): Implements behavior for the divmod() function.\n",
    "__pow__(self, other): Implements behavior for the ** operator (exponentiation).\n",
    "__lshift__(self, other): Implements behavior for the << operator (left bitwise shift).\n",
    "__rshift__(self, other): Implements behavior for the >> operator (right bitwise shift).\n",
    "__and__(self, other): Implements behavior for the & operator (bitwise and).\n",
    "__or__(self, other): Implements behavior for the | operator (bitwise or).\n",
    "__xor__(self, other): Implements behavior for the ^ operator (bitwise xor).\n",
    "__invert__(self): Implements behavior for bitwise NOT using the ~ operator.\n",
    "__neg__(self): Implements behavior for negation using the - operator.\n",
    "__pos__(self): Implements behavior for unary positive using the + operator.\n",
    "String Magic Methods\n",
    "\n",
    "__str__(self): Defines behavior for when str() is called on an instance of your class.\n",
    "__repr__(self): To get called by built-int repr() method to return a machine readable representation of a type.\n",
    "__unicode__(self): This method to return an unicode string of a type.\n",
    "__format__(self, formatstr): return a new style of string.\n",
    "__hash__(self): It has to return an integer, and its result is used for quick key comparison in dictionaries.\n",
    "__nonzero__(self): Defines behavior for when bool() is called on an instance of your class. \n",
    "__dir__(self): This method to return a list of attributes of a class.\n",
    "__sizeof__(self): It return the size of the object.\n",
    "Comparison magic methods\n",
    "\n",
    "__eq__(self, other): Defines behavior for the equality operator, ==.\n",
    "__ne__(self, other): Defines behavior for the inequality operator, !=.\n",
    "__lt__(self, other): Defines behavior for the less-than operator, <.\n",
    "__gt__(self, other): Defines behavior for the greater-than operator, >.\n",
    "__le__(self, other): Defines behavior for the less-than-or-equal-to operator, <=.\n",
    "__ge__(self, other): Defines behavior for the greater-than-or-equal-to operator, >=."
   ]
  }
 ],
 "metadata": {
  "kernelspec": {
   "display_name": "base",
   "language": "python",
   "name": "python3"
  },
  "language_info": {
   "codemirror_mode": {
    "name": "ipython",
    "version": 3
   },
   "file_extension": ".py",
   "mimetype": "text/x-python",
   "name": "python",
   "nbconvert_exporter": "python",
   "pygments_lexer": "ipython3",
   "version": "3.12.7"
  }
 },
 "nbformat": 4,
 "nbformat_minor": 5
}
