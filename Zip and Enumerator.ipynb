{
 "cells": [
  {
   "cell_type": "markdown",
   "id": "7f9c8807",
   "metadata": {},
   "source": [
    "Zip, enumerater\n",
    "->Zip(): \n",
    " | Combines multiple iterables (like lists or tuples) into pairs.\n",
    " | Useful for parallel iteration over multiple sequences.\n",
    " | Looping through two lists simultaneously using zip().\n",
    "-> enumerate():\n",
    "Adds a counter to an iterable.\n",
    "Handy for tracking index while looping.\n",
    "Accessing both index and value in a loop using enumerate()."
   ]
  },
  {
   "cell_type": "code",
   "execution_count": null,
   "id": "0052ee68",
   "metadata": {},
   "outputs": [
    {
     "name": "stdout",
     "output_type": "stream",
     "text": [
      "[('Ravi', 85), ('Meena', 92)]\n",
      "('Ravi', 'Meena')\n"
     ]
    }
   ],
   "source": [
    "names = ['Ravi', 'Meena']\n",
    "scores = [85, 92]\n",
    "zipped = list(zip(names, scores)) #we need to store in list or tuples or dict\n",
    "#unzipping using *var_name\n",
    "names_unzipped, scores_unzipped = zip(*zipped)\n",
    "\n",
    "print (zipped)\n",
    "print(names_unzipped)"
   ]
  },
  {
   "cell_type": "code",
   "execution_count": 15,
   "id": "11586b61",
   "metadata": {},
   "outputs": [
    {
     "name": "stdout",
     "output_type": "stream",
     "text": [
      "[(1, 'x'), (2, 'y'), (None, 'z')]\n"
     ]
    }
   ],
   "source": [
    "from itertools import zip_longest\n",
    "a = [1, 2]\n",
    "b = ['x', 'y', 'z']\n",
    "zipped = list(zip_longest(a, b, fillvalue=None)) #Zipping with unequal lengths\n",
    "print (zipped)"
   ]
  },
  {
   "cell_type": "code",
   "execution_count": 18,
   "id": "e461a285",
   "metadata": {},
   "outputs": [
    {
     "name": "stdout",
     "output_type": "stream",
     "text": [
      "{'id': 101, 'name': 'Kumar'}\n"
     ]
    }
   ],
   "source": [
    "keys = ['id', 'name']\n",
    "values = [101, 'Kumar']\n",
    "record = dict(zip(keys, values))\n",
    "\n",
    "print(record)"
   ]
  },
  {
   "cell_type": "code",
   "execution_count": 19,
   "id": "1fce7705",
   "metadata": {},
   "outputs": [
    {
     "name": "stdout",
     "output_type": "stream",
     "text": [
      "Asha: 88\n",
      "Neeraj: 95\n"
     ]
    }
   ],
   "source": [
    "class Student:\n",
    "    def __init__(self, name, score):\n",
    "        self.name = name\n",
    "        self.score = score\n",
    "\n",
    "s1 = Student('Asha', 88)\n",
    "s2 = Student('Neeraj', 95)\n",
    "\n",
    "for name, score in zip([s.name for s in [s1, s2]], [s.score for s in [s1, s2]]):\n",
    "    print(f\"{name}: {score}\")\n"
   ]
  },
  {
   "cell_type": "code",
   "execution_count": 20,
   "id": "a933ae10",
   "metadata": {},
   "outputs": [
    {
     "name": "stdout",
     "output_type": "stream",
     "text": [
      "1 a\n",
      "2 b\n"
     ]
    }
   ],
   "source": [
    "for index, item in enumerate(['a', 'b'], start=1):\n",
    "    print(index, item)  # Outputs 1 a, 2 b\n"
   ]
  },
  {
   "cell_type": "code",
   "execution_count": 25,
   "id": "f9f91f77",
   "metadata": {},
   "outputs": [
    {
     "name": "stdout",
     "output_type": "stream",
     "text": [
      "['apple', 'cherry']\n"
     ]
    }
   ],
   "source": [
    "data = ['apple', 'banana', 'cherry', 'date']\n",
    "every_other = [item for i, item in enumerate(data) if i % 2 == 0] #implementing in list expressiion\n",
    "print (every_other)\n"
   ]
  },
  {
   "cell_type": "code",
   "execution_count": 28,
   "id": "bbef3e84",
   "metadata": {},
   "outputs": [
    {
     "name": "stdout",
     "output_type": "stream",
     "text": [
      "[90.0, 180.0, 270.0]\n"
     ]
    }
   ],
   "source": [
    "prices = [100, 200, 300]\n",
    "for idx, val in enumerate(prices):\n",
    "    prices[idx] = val * 0.9  # Apply discount\n",
    "print(prices)"
   ]
  },
  {
   "cell_type": "code",
   "execution_count": 29,
   "id": "3697719f",
   "metadata": {},
   "outputs": [
    {
     "name": "stdout",
     "output_type": "stream",
     "text": [
      "Element at (0,0) is 1\n",
      "Element at (0,1) is 2\n",
      "Element at (1,0) is 3\n",
      "Element at (1,1) is 4\n"
     ]
    }
   ],
   "source": [
    "matrix = [[1, 2], [3, 4]]\n",
    "for i, row in enumerate(matrix):\n",
    "    for j, val in enumerate(row):\n",
    "        print(f\"Element at ({i},{j}) is {val}\")\n"
   ]
  }
 ],
 "metadata": {
  "kernelspec": {
   "display_name": "base",
   "language": "python",
   "name": "python3"
  },
  "language_info": {
   "codemirror_mode": {
    "name": "ipython",
    "version": 3
   },
   "file_extension": ".py",
   "mimetype": "text/x-python",
   "name": "python",
   "nbconvert_exporter": "python",
   "pygments_lexer": "ipython3",
   "version": "3.12.7"
  }
 },
 "nbformat": 4,
 "nbformat_minor": 5
}
