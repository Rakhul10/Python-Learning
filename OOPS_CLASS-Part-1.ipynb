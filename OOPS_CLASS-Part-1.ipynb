{
 "cells": [
  {
   "cell_type": "markdown",
   "id": "6d96b34f",
   "metadata": {},
   "source": [
    "Python is an object oriented programming language.\n",
    "\n",
    "Almost everything in Python is an object, with its properties and methods.\n",
    "\n",
    "A Class is like an object constructor, or a \"blueprint\" for creating objects."
   ]
  },
  {
   "cell_type": "code",
   "execution_count": 1,
   "id": "83178187",
   "metadata": {},
   "outputs": [
    {
     "name": "stdout",
     "output_type": "stream",
     "text": [
      "5\n"
     ]
    }
   ],
   "source": [
    "#create class\n",
    "class MyClass:\n",
    "  x = 5\n",
    "p1 = MyClass()\n",
    "print(p1.x)"
   ]
  },
  {
   "cell_type": "markdown",
   "id": "abf3bd59",
   "metadata": {},
   "source": [
    "#instance varible \n",
    "An instance variable is a type of variable that is declared within a class but outside any method, constructor, or block. These variables are specific to each instance of a class, meaning that each object created from the class has its own copy of the instance variables. They are used to store the state of an object and can have different values for different objects.\n",
    "\n",
    "#difference in one note -> pls check"
   ]
  },
  {
   "cell_type": "markdown",
   "id": "568dfced",
   "metadata": {},
   "source": [
    "#The __init__() Function  -> constructor\n",
    "All classes have a function called __init__(), which is always executed when the class is being initiated.\n",
    "\n",
    "The __init__() function is called automatically every time the class is being used to create a new object."
   ]
  },
  {
   "cell_type": "code",
   "execution_count": null,
   "id": "7dc11c49",
   "metadata": {},
   "outputs": [
    {
     "name": "stdout",
     "output_type": "stream",
     "text": [
      "John\n",
      "36\n"
     ]
    }
   ],
   "source": [
    "class Person:\n",
    "  def __init__(self, name, age):\n",
    "    self.name = name  # making it as instance variable\n",
    "    self.age = age\n",
    "    #self is an argument hold\n",
    "p1 = Person(\"John\", 36)\n",
    "\n",
    "print(p1.name)\n",
    "print(p1.age)"
   ]
  },
  {
   "cell_type": "code",
   "execution_count": 11,
   "id": "90ebf535",
   "metadata": {},
   "outputs": [
    {
     "name": "stdout",
     "output_type": "stream",
     "text": [
      "John\n",
      "36\n",
      "name: John \n",
      " Age: 36 \n",
      " D.O.B: 12-Mar-95\n"
     ]
    }
   ],
   "source": [
    "\n",
    "class Person:\n",
    "  def __init__(self, name, age,dob):\n",
    "    self.name = name  # making it as instance variable\n",
    "    self.age = age\n",
    "    self.dob =dob\n",
    "    #self is an argument hold\n",
    "  def detail(self):\n",
    "      detail =f\"name: {self.name} \\n Age: {self.age} \\n D.O.B: {self.dob}\"\n",
    "      return detail\n",
    "p1 = Person(\"John\", 36, '12-Mar-95' )\n",
    "\n",
    "print(p1.name)\n",
    "print(p1.age)\n",
    "print (p1.detail())"
   ]
  },
  {
   "cell_type": "code",
   "execution_count": null,
   "id": "c78da286",
   "metadata": {},
   "outputs": [
    {
     "name": "stdout",
     "output_type": "stream",
     "text": [
      "10000\n",
      "by class: 10000\n",
      "by object: 10000\n",
      "by class: 20000\n",
      "by object P1: 20000\n",
      "by object P2: 20000\n",
      "by class: 20000\n",
      "by object P1: 20000\n",
      "by object P2: 30000\n"
     ]
    }
   ],
   "source": [
    "#class variable\n",
    "\n",
    "class Person:\n",
    "  fees =10000 #class variable\n",
    "  def __init__(self, name, age,dob):\n",
    "    self.name = name \n",
    "    self.age = age\n",
    "    self.dob =dob\n",
    "    #self is an argument hold\n",
    "  def detail(self):\n",
    "      detail =f\"name: {self.name} \\n Age: {self.age} \\n D.O.B: {self.dob}\"\n",
    "      return detail\n",
    "p1 = Person(\"John\", 36, '12-Mar-95' )\n",
    "p2 = Person(\"Eva\", 26, '12-Mar-95' )\n",
    "print(p1.fees)\n",
    "\n",
    "#accessing class variable \n",
    "    #by class\n",
    "print(f'by class: {Person.fees}')\n",
    "    #by object\n",
    "print(f'by object: {p1.fees}')\n",
    "\n",
    "#changing\n",
    "    #by class\n",
    "Person.fees =20000\n",
    "print(f'by class: {Person.fees}')\n",
    "print(f'by object P1: {p1.fees}')\n",
    "print(f'by object P2: {p2.fees}')\n",
    "#by object\n",
    "p2.fees =30000\n",
    "print(f'by class: {Person.fees}')\n",
    "print(f'by object P1: {p1.fees}')\n",
    "print(f'by object P2: {p2.fees}')\n",
    "\n"
   ]
  },
  {
   "cell_type": "code",
   "execution_count": null,
   "id": "50493841",
   "metadata": {},
   "outputs": [
    {
     "name": "stdout",
     "output_type": "stream",
     "text": [
      "{'__module__': '__main__', '__firstlineno__': 2, 'fees': 10000, '__init__': <function Person.__init__ at 0x0000029AD3FFF420>, 'detail': <function Person.detail at 0x0000029AD3FFFE20>, '__static_attributes__': ('age', 'dob', 'name'), '__dict__': <attribute '__dict__' of 'Person' objects>, '__weakref__': <attribute '__weakref__' of 'Person' objects>, '__doc__': None}\n",
      "P1:{'name': 'John', 'age': 36, 'dob': '12-Mar-95'}\n",
      "P2:{'name': 'Eva', 'age': 26, 'dob': '12-Mar-95', 'fees': 30000}\n"
     ]
    }
   ],
   "source": [
    "#How to know is particular object has instance variable   -> dict function\n",
    "class Person:\n",
    "  fees =10000 #class variable\n",
    "  def __init__(self, name, age,dob):\n",
    "    self.name = name \n",
    "    self.age = age\n",
    "    self.dob =dob\n",
    "    #self is an argument hold\n",
    "  def detail(self):\n",
    "      detail =f\"name: {self.name} \\n Age: {self.age} \\n D.O.B: {self.dob}\"\n",
    "      return detail\n",
    "p1 = Person(\"John\", 36, '12-Mar-95' )\n",
    "p2 = Person(\"Eva\", 26, '12-Mar-95' )\n",
    "p2.fees =30000\n",
    "print(Person.__dict__)\n",
    "print(f'P1:{p1.__dict__}')\n",
    "print(f'P2:{p2.__dict__}')"
   ]
  },
  {
   "cell_type": "code",
   "execution_count": null,
   "id": "5f05c3fc",
   "metadata": {},
   "outputs": [
    {
     "name": "stdout",
     "output_type": "stream",
     "text": [
      "fees due for P1: 40000\n",
      "fees due for P2: 30000\n",
      "\n",
      "no of student via class: 2\n",
      "no of student via p1: 2\n",
      "no of student via p2: 2\n",
      "\n",
      "no of student via class: 0\n",
      "no of student via p1: 1\n",
      "no of student via p2: 1\n"
     ]
    }
   ],
   "source": [
    "#how to used\n",
    "class Person:\n",
    "  fees =50000 #class variable\n",
    "  stud_no = 0\n",
    "  stud_count=0\n",
    "  def __init__(self, name, age,dob):\n",
    "    self.name = name \n",
    "    self.age = age\n",
    "    self.dob =dob\n",
    "    #self is an argument hold\n",
    "    Person.stud_no = Person.stud_no +1 # to find how many object are created\n",
    "                                    #here we are creating modifying via class, so even if  u access by any object , it will return the overall for accessing object\n",
    "    self.stud_count = self.stud_count +1\n",
    "                                #here we are creating modifying via object/instance, so even if  u access by any object , it will return the value specificy to that instance\n",
    "  def detail(self):\n",
    "      detail =f\"name: {self.name} \\n Age: {self.age} \\n D.O.B: {self.dob}\"\n",
    "      return detail\n",
    "  def fees_paid(self,paid): #instance method\n",
    "      self.fees =self.fees-paid  #self.fees = class variable\n",
    "      return self.fees\n",
    "p1 = Person(\"John\", 36, '12-Mar-95' )\n",
    "p2 = Person(\"Eva\", 26, '12-Mar-95' )\n",
    "# fees paid\n",
    "print(f'fees due for P1: {p1.fees_paid(10000)}')\n",
    "print(f'fees due for P2: {p2.fees_paid(20000)}\\n')\n",
    "\n",
    "#object created -modified by class\n",
    "print(f'no of student via class: {Person.stud_no}')\n",
    "print(f'no of student via p1: {p1.stud_no}')\n",
    "print(f'no of student via p2: {p2.stud_no}\\n')\n",
    "\n",
    "#object created -modified by object/instance\n",
    "print(f'no of student via class: {Person.stud_count}')\n",
    "print(f'no of student via p1: {p1.stud_count}')\n",
    "print(f'no of student via p2: {p2.stud_count}')"
   ]
  },
  {
   "cell_type": "markdown",
   "id": "79e59c5c",
   "metadata": {},
   "source": [
    "--------------------class method vs static method vs instance method-------------------------------\n",
    "\n",
    "-> Instance Method:  object will get pass as First Arugumemt (self to hold it) -> above code def detail(self) example of it\n",
    "-> class method:  class name will get pass as First Arugumemt (self to hold it)\n",
    "->static method: neither class or object will pass as First Arugumemt"
   ]
  },
  {
   "cell_type": "code",
   "execution_count": 7,
   "id": "124786cd",
   "metadata": {},
   "outputs": [
    {
     "name": "stdout",
     "output_type": "stream",
     "text": [
      "by class: 30000\n",
      "by object P1: 30000\n",
      "by object P2: 30000 \n",
      "\n",
      "by object P3: 30000\n"
     ]
    }
   ],
   "source": [
    "#class method -> using @classmethod generator\n",
    "class Person:\n",
    "  fees =50000 #class variable\n",
    "  stud_no = 0\n",
    "  stud_count=0\n",
    "  def __init__(self, name, age,dob):\n",
    "    self.name = name \n",
    "    self.age = age\n",
    "    self.dob =dob\n",
    "  def detail(self):\n",
    "      detail =f\"name: {self.name} \\n Age: {self.age} \\n D.O.B: {self.dob}\"\n",
    "      return detail\n",
    "  def fees_paid(self,paid): #instance method\n",
    "      self.fees =self.fees-paid  #self.fees = class variable\n",
    "      return self.fees \n",
    "  @classmethod\n",
    "  def change_fees(cls,amount):\n",
    "     cls.fees =amount\n",
    "p1 = Person(\"John\", 36, '12-Mar-95' )\n",
    "p2 = Person(\"Eva\", 26, '12-Mar-95' )\n",
    "Person.change_fees(30000)  # using class method chaning class variable\n",
    "print(f'by class: {Person.fees}')\n",
    "print(f'by object P1: {p1.fees}')\n",
    "print(f'by object P2: {p2.fees} \\n')\n",
    "p3 =Person(\"vewr\", 26, '12-Mar-95' )\n",
    "print(f'by object P3: {p2.fees}')"
   ]
  },
  {
   "cell_type": "code",
   "execution_count": null,
   "id": "b604aa70",
   "metadata": {},
   "outputs": [
    {
     "name": "stdout",
     "output_type": "stream",
     "text": [
      "QWER\n"
     ]
    }
   ],
   "source": [
    "#usage of class method:\n",
    "class Person:\n",
    "  fees =50000 #class variable\n",
    "  def __init__(self, name, age,dob):\n",
    "    self.name = name \n",
    "    self.age = age\n",
    "    self.dob =dob\n",
    "  @classmethod\n",
    "  def data_gen(cls,data):  #using class method as object constructor\n",
    "     name, age, dob = data.split(\",\")\n",
    "     return cls(name, age, dob)  #cls indicate class name  because in class method, class name will be passed as first Argument\n",
    "  \n",
    "  input = \"QWER,26,'12-03-95'\"\n",
    "  p5 = Person.data_gen(input)\n",
    "  print (p5.name)\n"
   ]
  },
  {
   "cell_type": "code",
   "execution_count": 15,
   "id": "4f64d35f",
   "metadata": {},
   "outputs": [
    {
     "name": "stdout",
     "output_type": "stream",
     "text": [
      "True\n",
      "False\n"
     ]
    }
   ],
   "source": [
    "#static method\n",
    "class Person:\n",
    "  fees =50000 #class variable\n",
    "  def __init__(self, name, age,dob):\n",
    "    self.name = name \n",
    "    self.age = age\n",
    "    self.dob =dob\n",
    "  @classmethod\n",
    "  def data_gen(cls,data):  #using class method as object constructor\n",
    "     name, age, dob = data.split(\",\")\n",
    "     return cls(name, age, dob)  #cls indicate class name  because in class method, class name will be passed as first Argument\n",
    "  \n",
    "  @staticmethod\n",
    "  def department (dept):\n",
    "    avail =['Cs','EEE','MCA']\n",
    "    if dept in avail:\n",
    "      return True\n",
    "    return False\n",
    "  input = \"QWER,26,'12-03-95'\"\n",
    "  p5 = Person.data_gen(input)\n",
    "  print (p5.department('Cs'))\n",
    "\n",
    "  print (p5.department('ECE'))\n"
   ]
  }
 ],
 "metadata": {
  "kernelspec": {
   "display_name": "base",
   "language": "python",
   "name": "python3"
  },
  "language_info": {
   "codemirror_mode": {
    "name": "ipython",
    "version": 3
   },
   "file_extension": ".py",
   "mimetype": "text/x-python",
   "name": "python",
   "nbconvert_exporter": "python",
   "pygments_lexer": "ipython3",
   "version": "3.12.7"
  }
 },
 "nbformat": 4,
 "nbformat_minor": 5
}
